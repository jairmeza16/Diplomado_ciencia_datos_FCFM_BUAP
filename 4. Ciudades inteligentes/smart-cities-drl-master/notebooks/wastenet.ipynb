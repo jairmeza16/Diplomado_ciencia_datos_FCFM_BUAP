{
 "cells": [
  {
   "cell_type": "markdown",
   "metadata": {
    "id": "fO9547wOqrGb"
   },
   "source": [
    "# WasteNet"
   ]
  },
  {
   "cell_type": "markdown",
   "metadata": {
    "id": "BWzkFkIFqz4C"
   },
   "source": [
    "## Setup"
   ]
  },
  {
   "cell_type": "code",
   "execution_count": 3,
   "metadata": {
    "id": "2pLSISOhRLDK"
   },
   "outputs": [
    {
     "name": "stderr",
     "output_type": "stream",
     "text": [
      "\"rm\" no se reconoce como un comando interno o externo,\n",
      "programa o archivo por lotes ejecutable.\n",
      "\"git\" no se reconoce como un comando interno o externo,\n",
      "programa o archivo por lotes ejecutable.\n",
      "El sistema no puede encontrar la ruta especificada.\n"
     ]
    }
   ],
   "source": [
    "# Colab\n",
    "!rm -r smart-cities-drl\n",
    "!git clone https://github.com/eescriba/smart-cities-drl\n",
    "!cd smart-cities-drl/ && pip install -e .\n",
    "\n",
    "import sys\n",
    "sys.path.insert(0,'./smart-cities-drl/src/')\n",
    "\n",
    "# Local\n",
    "# !pip install -e ..\n",
    "# import sys\n",
    "# sys.path.insert(0,'../src/')"
   ]
  },
  {
   "cell_type": "code",
   "execution_count": 2,
   "metadata": {
    "id": "Qv2IiHGYRLDQ"
   },
   "outputs": [
    {
     "ename": "ModuleNotFoundError",
     "evalue": "No module named 'ray'",
     "output_type": "error",
     "traceback": [
      "\u001b[1;31m---------------------------------------------------------------------------\u001b[0m",
      "\u001b[1;31mModuleNotFoundError\u001b[0m                       Traceback (most recent call last)",
      "\u001b[1;32m~\\AppData\\Local\\Temp\\ipykernel_16024\\3720540315.py\u001b[0m in \u001b[0;36m<module>\u001b[1;34m\u001b[0m\n\u001b[0;32m      4\u001b[0m \u001b[1;33m\u001b[0m\u001b[0m\n\u001b[0;32m      5\u001b[0m \u001b[1;32mimport\u001b[0m \u001b[0mgym\u001b[0m\u001b[1;33m\u001b[0m\u001b[1;33m\u001b[0m\u001b[0m\n\u001b[1;32m----> 6\u001b[1;33m \u001b[1;32mimport\u001b[0m \u001b[0mray\u001b[0m\u001b[1;33m\u001b[0m\u001b[1;33m\u001b[0m\u001b[0m\n\u001b[0m\u001b[0;32m      7\u001b[0m \u001b[1;32mfrom\u001b[0m \u001b[0mray\u001b[0m\u001b[1;33m.\u001b[0m\u001b[0mtune\u001b[0m \u001b[1;32mimport\u001b[0m \u001b[0mrun\u001b[0m\u001b[1;33m,\u001b[0m \u001b[0mchoice\u001b[0m\u001b[1;33m\u001b[0m\u001b[1;33m\u001b[0m\u001b[0m\n\u001b[0;32m      8\u001b[0m \u001b[1;32mfrom\u001b[0m \u001b[0mcore\u001b[0m\u001b[1;33m.\u001b[0m\u001b[0mrl\u001b[0m \u001b[1;32mimport\u001b[0m \u001b[0mPPOAgent\u001b[0m\u001b[1;33m\u001b[0m\u001b[1;33m\u001b[0m\u001b[0m\n",
      "\u001b[1;31mModuleNotFoundError\u001b[0m: No module named 'ray'"
     ]
    }
   ],
   "source": [
    "import json\n",
    "import shutil\n",
    "import random\n",
    "\n",
    "import gym\n",
    "import ray\n",
    "from ray.tune import run, choice\n",
    "from core.rl import PPOAgent\n",
    "from core.pbt import PbtOptimizer\n",
    "from wastenet.env import WasteNetEnv"
   ]
  },
  {
   "cell_type": "markdown",
   "metadata": {
    "id": "6Hrqtufqq24H"
   },
   "source": [
    "## Proximal Policy Optimization (PPO)"
   ]
  },
  {
   "cell_type": "markdown",
   "metadata": {
    "id": "j0jHuZL9Tgm_"
   },
   "source": [
    "### Tune hyperparameters"
   ]
  },
  {
   "cell_type": "code",
   "execution_count": null,
   "metadata": {
    "id": "cpHcdjslVi9G"
   },
   "outputs": [],
   "source": [
    "ppo = PPOAgent(\"wastenet_ppo_tune\", WasteNetEnv, {})"
   ]
  },
  {
   "cell_type": "code",
   "execution_count": null,
   "metadata": {
    "id": "49VrIblUM4wT"
   },
   "outputs": [],
   "source": [
    "tune_config = {\n",
    "    \"env\": WasteNetEnv,\n",
    "    \"seed\": 123,\n",
    "    \"num_gpus\": 1,\n",
    "    \"num_workers\": 1,\n",
    "    \"observation_filter\": \"MeanStdFilter\",\n",
    "    \"model\": {\n",
    "        \"free_log_std\": True\n",
    "    },\n",
    "    \"lambda\": 0.95,\n",
    "    \"clip_param\": 0.3,\n",
    "    \"lr\": 5e-5,\n",
    "    \"num_sgd_iter\": choice([10, 20, 30]),\n",
    "    \"sgd_minibatch_size\": choice([128, 256, 512]),\n",
    "    \"train_batch_size\": choice([8000, 16000, 32000])\n",
    "}\n",
    "stop_criteria = {\n",
    "    \"timesteps_total\": 2000000\n",
    "}\n",
    "hyperparam_mutations={\n",
    "    \"lambda\": lambda: random.uniform(0.7, 1.0),\n",
    "    \"clip_param\": lambda: random.uniform(0.1, 0.5),\n",
    "    \"lr\": [1e-3, 5e-4, 1e-4, 5e-5, 1e-5],\n",
    "    \"num_sgd_iter\": lambda: random.randint(1, 30),\n",
    "    \"sgd_minibatch_size\": lambda: random.randint(128, 16384),\n",
    "    \"train_batch_size\": lambda: random.randint(2000, 160000),\n",
    "}\n",
    "pbt = PbtOptimizer(hyperparam_mutations)"
   ]
  },
  {
   "cell_type": "code",
   "execution_count": null,
   "metadata": {
    "id": "BhEbUSY6Vs-r"
   },
   "outputs": [],
   "source": [
    "ppo.restart()\n",
    "analysis = ppo.tune(tune_config, stop_criteria, scheduler=pbt.scheduler)\n",
    "best_config =  analysis.get_best_config(metric=\"episode_reward_mean\", mode=\"max\")\n",
    "print(\"Best hyperparameters found: \", best_config)"
   ]
  },
  {
   "cell_type": "code",
   "execution_count": null,
   "metadata": {
    "id": "AjOOMnKkZ3Jg"
   },
   "outputs": [],
   "source": [
    "best_config = {\n",
    "    \"seed\": 123,\n",
    "    \"observation_filter\": \"MeanStdFilter\",\n",
    "    \"model\": {\"free_log_std\": True},\n",
    "    \"num_sgd_iter\": 10,\n",
    "    \"sgd_minibatch_size\": 128,\n",
    "    \"lambda\": 0.731396,\n",
    "    \"clip_param\": 0.317651,\n",
    "    \"lr\": 5e-05,\n",
    "    \"train_batch_size\": 18812,\n",
    "}"
   ]
  },
  {
   "cell_type": "markdown",
   "metadata": {
    "id": "DyptyrNeTgnA"
   },
   "source": [
    "### Training"
   ]
  },
  {
   "cell_type": "code",
   "execution_count": null,
   "metadata": {
    "id": "rsi17r9uSE-2"
   },
   "outputs": [],
   "source": [
    "ppo = PPOAgent(\"wastenet_ppo_train\", best_config, WasteNetEnv, {})\n",
    "ppo.train(num_iter=200)"
   ]
  },
  {
   "cell_type": "code",
   "execution_count": null,
   "metadata": {
    "id": "SE5CrWozRLDS"
   },
   "outputs": [],
   "source": [
    "policy = ppo.agent.get_policy()\n",
    "model = policy.model\n",
    "print(model.base_model.summary())"
   ]
  },
  {
   "cell_type": "markdown",
   "metadata": {
    "id": "_P4Tl-1zsU2h"
   },
   "source": [
    "### Testing"
   ]
  },
  {
   "cell_type": "code",
   "execution_count": null,
   "metadata": {
    "id": "3_hBOp4kVTQ5"
   },
   "outputs": [],
   "source": [
    "# ppo = PPOAgent(\"wastenet_ppo_test\", best_config, WasteNetEnv, {})\n",
    "# ppo.load(\"checkpoints/checkpoint-best\")\n",
    "ppo.test(num_episodes=1000)"
   ]
  },
  {
   "cell_type": "markdown",
   "metadata": {
    "id": "qVaoPUTNToBF"
   },
   "source": [
    "### Visualization"
   ]
  },
  {
   "cell_type": "code",
   "execution_count": null,
   "metadata": {
    "id": "St6gMyOST3_y"
   },
   "outputs": [],
   "source": [
    "!zip -r /content/ray_results.zip /content/ray_results"
   ]
  },
  {
   "cell_type": "code",
   "execution_count": null,
   "metadata": {
    "id": "_qdEKhi5sWoX"
   },
   "outputs": [],
   "source": [
    "%load_ext tensorboard \n",
    "%tensorboard --logdir=\"/content/ray_results/\""
   ]
  }
 ],
 "metadata": {
  "accelerator": "GPU",
  "colab": {
   "name": "wastenet.ipynb",
   "provenance": []
  },
  "kernelspec": {
   "display_name": "Python 3 (ipykernel)",
   "language": "python",
   "name": "python3"
  },
  "language_info": {
   "codemirror_mode": {
    "name": "ipython",
    "version": 3
   },
   "file_extension": ".py",
   "mimetype": "text/x-python",
   "name": "python",
   "nbconvert_exporter": "python",
   "pygments_lexer": "ipython3",
   "version": "3.9.13"
  }
 },
 "nbformat": 4,
 "nbformat_minor": 1
}
